{
 "cells": [
  {
   "cell_type": "code",
   "execution_count": 1,
   "metadata": {},
   "outputs": [
    {
     "name": "stdout",
     "output_type": "stream",
     "text": [
      "{'link': 'https://leetcode.com/problems/number-of-islands', 'questionId': '200', 'questionFrontendId': '200', 'questionTitle': 'Number of Islands', 'titleSlug': 'number-of-islands', 'difficulty': 'Medium', 'isPaidOnly': False, 'question': '<p>Given an <code>m x n</code> 2D binary grid <code>grid</code> which represents a map of <code>&#39;1&#39;</code>s (land) and <code>&#39;0&#39;</code>s (water), return <em>the number of islands</em>.</p>\\n\\n<p>An <strong>island</strong> is surrounded by water and is formed by connecting adjacent lands horizontally or vertically. You may assume all four edges of the grid are all surrounded by water.</p>\\n\\n<p>&nbsp;</p>\\n<p><strong class=\"example\">Example 1:</strong></p>\\n\\n<pre>\\n<strong>Input:</strong> grid = [\\n  [&quot;1&quot;,&quot;1&quot;,&quot;1&quot;,&quot;1&quot;,&quot;0&quot;],\\n  [&quot;1&quot;,&quot;1&quot;,&quot;0&quot;,&quot;1&quot;,&quot;0&quot;],\\n  [&quot;1&quot;,&quot;1&quot;,&quot;0&quot;,&quot;0&quot;,&quot;0&quot;],\\n  [&quot;0&quot;,&quot;0&quot;,&quot;0&quot;,&quot;0&quot;,&quot;0&quot;]\\n]\\n<strong>Output:</strong> 1\\n</pre>\\n\\n<p><strong class=\"example\">Example 2:</strong></p>\\n\\n<pre>\\n<strong>Input:</strong> grid = [\\n  [&quot;1&quot;,&quot;1&quot;,&quot;0&quot;,&quot;0&quot;,&quot;0&quot;],\\n  [&quot;1&quot;,&quot;1&quot;,&quot;0&quot;,&quot;0&quot;,&quot;0&quot;],\\n  [&quot;0&quot;,&quot;0&quot;,&quot;1&quot;,&quot;0&quot;,&quot;0&quot;],\\n  [&quot;0&quot;,&quot;0&quot;,&quot;0&quot;,&quot;1&quot;,&quot;1&quot;]\\n]\\n<strong>Output:</strong> 3\\n</pre>\\n\\n<p>&nbsp;</p>\\n<p><strong>Constraints:</strong></p>\\n\\n<ul>\\n\\t<li><code>m == grid.length</code></li>\\n\\t<li><code>n == grid[i].length</code></li>\\n\\t<li><code>1 &lt;= m, n &lt;= 300</code></li>\\n\\t<li><code>grid[i][j]</code> is <code>&#39;0&#39;</code> or <code>&#39;1&#39;</code>.</li>\\n</ul>\\n', 'exampleTestcases': '[[\"1\",\"1\",\"1\",\"1\",\"0\"],[\"1\",\"1\",\"0\",\"1\",\"0\"],[\"1\",\"1\",\"0\",\"0\",\"0\"],[\"0\",\"0\",\"0\",\"0\",\"0\"]]\\n[[\"1\",\"1\",\"0\",\"0\",\"0\"],[\"1\",\"1\",\"0\",\"0\",\"0\"],[\"0\",\"0\",\"1\",\"0\",\"0\"],[\"0\",\"0\",\"0\",\"1\",\"1\"]]', 'topicTags': [{'name': 'Array', 'slug': 'array', 'translatedName': None}, {'name': 'Depth-First Search', 'slug': 'depth-first-search', 'translatedName': None}, {'name': 'Breadth-First Search', 'slug': 'breadth-first-search', 'translatedName': None}, {'name': 'Union Find', 'slug': 'union-find', 'translatedName': None}, {'name': 'Matrix', 'slug': 'matrix', 'translatedName': None}], 'hints': [], 'solution': {'id': '342', 'canSeeDetail': False, 'paidOnly': True, 'hasVideoSolution': True, 'paidOnlyVideo': True}, 'companyTagStats': None, 'likes': 22797, 'dislikes': 522, 'similarQuestions': '[{\"title\": \"Surrounded Regions\", \"titleSlug\": \"surrounded-regions\", \"difficulty\": \"Medium\", \"translatedTitle\": null}, {\"title\": \"Walls and Gates\", \"titleSlug\": \"walls-and-gates\", \"difficulty\": \"Medium\", \"translatedTitle\": null}, {\"title\": \"Number of Islands II\", \"titleSlug\": \"number-of-islands-ii\", \"difficulty\": \"Hard\", \"translatedTitle\": null}, {\"title\": \"Number of Connected Components in an Undirected Graph\", \"titleSlug\": \"number-of-connected-components-in-an-undirected-graph\", \"difficulty\": \"Medium\", \"translatedTitle\": null}, {\"title\": \"Number of Distinct Islands\", \"titleSlug\": \"number-of-distinct-islands\", \"difficulty\": \"Medium\", \"translatedTitle\": null}, {\"title\": \"Max Area of Island\", \"titleSlug\": \"max-area-of-island\", \"difficulty\": \"Medium\", \"translatedTitle\": null}, {\"title\": \"Count Sub Islands\", \"titleSlug\": \"count-sub-islands\", \"difficulty\": \"Medium\", \"translatedTitle\": null}, {\"title\": \"Find All Groups of Farmland\", \"titleSlug\": \"find-all-groups-of-farmland\", \"difficulty\": \"Medium\", \"translatedTitle\": null}, {\"title\": \"Count Unreachable Pairs of Nodes in an Undirected Graph\", \"titleSlug\": \"count-unreachable-pairs-of-nodes-in-an-undirected-graph\", \"difficulty\": \"Medium\", \"translatedTitle\": null}, {\"title\": \"Maximum Number of Fish in a Grid\", \"titleSlug\": \"maximum-number-of-fish-in-a-grid\", \"difficulty\": \"Medium\", \"translatedTitle\": null}]'}\n"
     ]
    }
   ],
   "source": [
    "import requests\n",
    "\n",
    "def fetch_leetcode_data(slug):\n",
    "    base_url = \"https://alfa-leetcode-api.onrender.com/select\"\n",
    "    params = {\"titleSlug\": slug}\n",
    "\n",
    "    try:\n",
    "        response = requests.get(base_url, params=params)\n",
    "        response.raise_for_status()  # Raise an exception for bad status codes\n",
    "        data = response.json()\n",
    "        return data\n",
    "    except requests.RequestException as e:\n",
    "        print(f\"An error occurred: {e}\")\n",
    "        return None\n",
    "\n",
    "# Example usage\n",
    "slug = \"number-of-islands\"  # Replace with the desired problem slug\n",
    "result = fetch_leetcode_data(slug)\n",
    "\n",
    "print(result)"
   ]
  },
  {
   "cell_type": "code",
   "execution_count": 2,
   "metadata": {},
   "outputs": [
    {
     "name": "stdout",
     "output_type": "stream",
     "text": [
      "<p>Given an array of integers <code>nums</code>&nbsp;and an integer <code>target</code>, return <em>indices of the two numbers such that they add up to <code>target</code></em>.</p>\n",
      "\n",
      "<p>You may assume that each input would have <strong><em>exactly</em> one solution</strong>, and you may not use the <em>same</em> element twice.</p>\n",
      "\n",
      "<p>You can return the answer in any order.</p>\n",
      "\n",
      "<p>&nbsp;</p>\n",
      "<p><strong class=\"example\">Example 1:</strong></p>\n",
      "\n",
      "<pre>\n",
      "<strong>Input:</strong> nums = [2,7,11,15], target = 9\n",
      "<strong>Output:</strong> [0,1]\n",
      "<strong>Explanation:</strong> Because nums[0] + nums[1] == 9, we return [0, 1].\n",
      "</pre>\n",
      "\n",
      "<p><strong class=\"example\">Example 2:</strong></p>\n",
      "\n",
      "<pre>\n",
      "<strong>Input:</strong> nums = [3,2,4], target = 6\n",
      "<strong>Output:</strong> [1,2]\n",
      "</pre>\n",
      "\n",
      "<p><strong class=\"example\">Example 3:</strong></p>\n",
      "\n",
      "<pre>\n",
      "<strong>Input:</strong> nums = [3,3], target = 6\n",
      "<strong>Output:</strong> [0,1]\n",
      "</pre>\n",
      "\n",
      "<p>&nbsp;</p>\n",
      "<p><strong>Constraints:</strong></p>\n",
      "\n",
      "<ul>\n",
      "\t<li><code>2 &lt;= nums.length &lt;= 10<sup>4</sup></code></li>\n",
      "\t<li><code>-10<sup>9</sup> &lt;= nums[i] &lt;= 10<sup>9</sup></code></li>\n",
      "\t<li><code>-10<sup>9</sup> &lt;= target &lt;= 10<sup>9</sup></code></li>\n",
      "\t<li><strong>Only one valid answer exists.</strong></li>\n",
      "</ul>\n",
      "\n",
      "<p>&nbsp;</p>\n",
      "<strong>Follow-up:&nbsp;</strong>Can you come up with an algorithm that is less than <code>O(n<sup>2</sup>)</code><font face=\"monospace\">&nbsp;</font>time complexity?\n"
     ]
    }
   ],
   "source": [
    "print(result['question'])"
   ]
  },
  {
   "cell_type": "code",
   "execution_count": 4,
   "metadata": {},
   "outputs": [
    {
     "name": "stdout",
     "output_type": "stream",
     "text": [
      "<p>Given the <code>root</code> of a binary tree and an integer <code>targetSum</code>, return <code>true</code> if the tree has a <strong>root-to-leaf</strong> path such that adding up all the values along the path equals <code>targetSum</code>.</p>\n",
      "\n",
      "<p>A <strong>leaf</strong> is a node with no children.</p>\n",
      "\n",
      "<p>&nbsp;</p>\n",
      "<p><strong class=\"example\">Example 1:</strong></p>\n",
      "<img alt=\"\" src=\"https://assets.leetcode.com/uploads/2021/01/18/pathsum1.jpg\" style=\"width: 500px; height: 356px;\" />\n",
      "<pre>\n",
      "<strong>Input:</strong> root = [5,4,8,11,null,13,4,7,2,null,null,null,1], targetSum = 22\n",
      "<strong>Output:</strong> true\n",
      "<strong>Explanation:</strong> The root-to-leaf path with the target sum is shown.\n",
      "</pre>\n",
      "\n",
      "<p><strong class=\"example\">Example 2:</strong></p>\n",
      "<img alt=\"\" src=\"https://assets.leetcode.com/uploads/2021/01/18/pathsum2.jpg\" />\n",
      "<pre>\n",
      "<strong>Input:</strong> root = [1,2,3], targetSum = 5\n",
      "<strong>Output:</strong> false\n",
      "<strong>Explanation:</strong> There two root-to-leaf paths in the tree:\n",
      "(1 --&gt; 2): The sum is 3.\n",
      "(1 --&gt; 3): The sum is 4.\n",
      "There is no root-to-leaf path with sum = 5.\n",
      "</pre>\n",
      "\n",
      "<p><strong class=\"example\">Example 3:</strong></p>\n",
      "\n",
      "<pre>\n",
      "<strong>Input:</strong> root = [], targetSum = 0\n",
      "<strong>Output:</strong> false\n",
      "<strong>Explanation:</strong> Since the tree is empty, there are no root-to-leaf paths.\n",
      "</pre>\n",
      "\n",
      "<p>&nbsp;</p>\n",
      "<p><strong>Constraints:</strong></p>\n",
      "\n",
      "<ul>\n",
      "\t<li>The number of nodes in the tree is in the range <code>[0, 5000]</code>.</li>\n",
      "\t<li><code>-1000 &lt;= Node.val &lt;= 1000</code></li>\n",
      "\t<li><code>-1000 &lt;= targetSum &lt;= 1000</code></li>\n",
      "</ul>\n",
      "\n"
     ]
    }
   ],
   "source": [
    "result = fetch_leetcode_data('path-sum')\n",
    "print(result['question'])"
   ]
  },
  {
   "cell_type": "code",
   "execution_count": null,
   "metadata": {},
   "outputs": [],
   "source": []
  }
 ],
 "metadata": {
  "kernelspec": {
   "display_name": "env",
   "language": "python",
   "name": "python3"
  },
  "language_info": {
   "codemirror_mode": {
    "name": "ipython",
    "version": 3
   },
   "file_extension": ".py",
   "mimetype": "text/x-python",
   "name": "python",
   "nbconvert_exporter": "python",
   "pygments_lexer": "ipython3",
   "version": "3.10.12"
  }
 },
 "nbformat": 4,
 "nbformat_minor": 2
}
